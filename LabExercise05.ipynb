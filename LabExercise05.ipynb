{
 "cells": [
  {
   "cell_type": "markdown",
   "metadata": {},
   "source": [
    "# <hi><center>UNIVERSITY OF VICTORIA</xcenter></h1>\n",
    "# <hi><center>Department of Computer Science</xcenter></h1>\n",
    "## <hi><center>CSC 110 Fundamentals of Programming I (January 2020 to April 2020) </xcenter></h1>\n",
    "### <hi><center>Course Instructor : Professor Mike Zastre</xcenter></h1>\n",
    "### <hi><center>LAB 05 -- Monday, 10th February 2020 to Thursday, 13th February 2020</xcenter></h1>"
   ]
  },
  {
   "cell_type": "markdown",
   "metadata": {},
   "source": [
    "### This lab will cover the following topics\n",
    "\n",
    "* functions\n",
    "  - parameters\n",
    "  - return values"
   ]
  },
  {
   "cell_type": "markdown",
   "metadata": {},
   "source": [
    "### What are the output of these code blocks below?"
   ]
  },
  {
   "cell_type": "code",
   "execution_count": null,
   "metadata": {},
   "outputs": [],
   "source": [
    "def sum_numbers():\n",
    "    a = int(input(\"Enter a number ----> \"))\n",
    "    b = int(input(\"Enter another number ----> \"))\n",
    "    sum = a + b\n",
    "    print(\"Sum is ----> \", sum)\n",
    "\n",
    "def main():\n",
    "    sum_numbers()\n",
    "    \n",
    "main()"
   ]
  },
  {
   "cell_type": "code",
   "execution_count": null,
   "metadata": {},
   "outputs": [],
   "source": [
    "def sum_numbers(a,b):\n",
    "    sum = a + b\n",
    "    print(\"Sum is ----> \", sum)\n",
    "    \n",
    "def main():\n",
    "    a = int(input(\"Enter a number ----> \"))\n",
    "    b = int(input(\"Enter another number ----> \"))\n",
    "    sum_numbers(a,b)\n",
    "\n",
    "main()"
   ]
  },
  {
   "cell_type": "code",
   "execution_count": null,
   "metadata": {},
   "outputs": [],
   "source": [
    "def sum_numbers(a,b):\n",
    "    sum = a + b\n",
    "    return sum\n",
    "    \n",
    "def main():\n",
    "    a = int(input(\"Enter a number ----> \"))\n",
    "    b = int(input(\"Enter another number ----> \"))\n",
    "    s = sum_numbers(a,b)\n",
    "    print(\"Sum is ----> \", s)\n",
    "\n",
    "main()"
   ]
  },
  {
   "cell_type": "markdown",
   "metadata": {},
   "source": [
    "### CODE TRACING"
   ]
  },
  {
   "cell_type": "markdown",
   "metadata": {},
   "source": [
    "### Exercise 1(a)"
   ]
  },
  {
   "cell_type": "code",
   "execution_count": null,
   "metadata": {},
   "outputs": [],
   "source": [
    "# Exercise 1(a)\n",
    "\n",
    "def function_a():\n",
    "    print(\"horse\")\n",
    "    print(\"dog\")\n",
    "    \n",
    "def function_b():\n",
    "    print(\"dog\")\n",
    "    \n",
    "def function_c():\n",
    "    print(\"cat\")\n",
    "    print(\"horse\")\n",
    "    \n",
    "def main():\n",
    "    function_c()\n",
    "    function_a()\n",
    "    function_c()\n",
    "    function_b()\n",
    "    \n",
    "main()"
   ]
  },
  {
   "cell_type": "markdown",
   "metadata": {},
   "source": [
    "### Exercise 1(b)"
   ]
  },
  {
   "cell_type": "code",
   "execution_count": null,
   "metadata": {},
   "outputs": [],
   "source": [
    "# Exercise 1(b): \n",
    "\n",
    "def function_e(reps):\n",
    "    for i in range(reps):\n",
    "        print(\"Mouse!\")\n",
    "    \n",
    "def function_f(reps):\n",
    "    print(\"!^!\" * reps)\n",
    "    \n",
    "def function_g(reps, shout):\n",
    "    print(shout * reps)\n",
    "    \n",
    "def main():\n",
    "    function_e(3)\n",
    "    function_f(5)\n",
    "    function_g(4, \"omigosh!\")\n",
    "    function_f(2)\n",
    "    \n",
    "main()"
   ]
  },
  {
   "cell_type": "markdown",
   "metadata": {},
   "source": [
    "### Exercise 1(c)"
   ]
  },
  {
   "cell_type": "code",
   "execution_count": null,
   "metadata": {},
   "outputs": [],
   "source": [
    "# Exercise 1(c): \n",
    "\n",
    "def function_x():\n",
    "    return 10\n",
    "\n",
    "def function_y():\n",
    "    return 20\n",
    "\n",
    "def function_z():\n",
    "    return -5\n",
    "\n",
    "def function_what_the():\n",
    "    print(\"What the...?\")\n",
    "\n",
    "def main():\n",
    "    a = 200\n",
    "    b = a * function_x()\n",
    "    b += function_y()\n",
    "    b -= function_x() * function_z()\n",
    "    \n",
    "    print (a, b)\n",
    "    \n",
    "    print(function_what_the())\n",
    "    \n",
    "main()"
   ]
  },
  {
   "cell_type": "markdown",
   "metadata": {},
   "source": [
    "# NOTE\n",
    "\n",
    "* Return statement is not the same as Print statement. Please keep this thing in mind and understand the difference between both.\n",
    "\n",
    "### Exercise 2: What is the output of the below code block?\n"
   ]
  },
  {
   "cell_type": "code",
   "execution_count": null,
   "metadata": {},
   "outputs": [],
   "source": [
    "def function_x():\n",
    "    return 10\n",
    "\n",
    "def function_y():\n",
    "    return 20\n",
    "\n",
    "def function_z():\n",
    "    return -5\n",
    "\n",
    "def function_what_the():\n",
    "    print(\"What the...?\")\n",
    "\n",
    "def main():\n",
    "    a = 200\n",
    "    b = a * function_x()\n",
    "    b += function_y()\n",
    "    b -= function_x() * function_z()\n",
    "    \n",
    "    print (a, b)\n",
    "    \n",
    "    print(function_what_the())\n",
    "    \n",
    "main()"
   ]
  },
  {
   "cell_type": "markdown",
   "metadata": {},
   "source": [
    "### Exercise 3a: Prime number generation \n",
    "* Take a number from the user. \n",
    "* Print all prime numbers lower than this number\n",
    "* Must write a function is_prime\n",
    "    * this function takes one parameter (an integer)\n",
    "    * it determines if the number passed as a parameter is prime\n",
    "        * if it is prime, the function returns True, otherwise, it returns False\n",
    "\n",
    "### Exercise 3b: Optimize your code."
   ]
  },
  {
   "cell_type": "markdown",
   "metadata": {},
   "source": [
    "### Exercise 4:\n",
    "\n",
    "- Write a list that shows temperature conversions from celcius to fahrenheit. \n",
    "- Take a high temperature and low temperature from the user in celcius. \n",
    "- Write code that prints out several statements in the format below for very integer value of celcius between the high and low temperatures entered by the user\n",
    "    * -63 celcius is -81.40 fahrenheit\n",
    "    * -62 celcius is -79.60 fahrenheit\n",
    "    * and so on...\n",
    "- celcius to fahrenheit. C = (F*(9/5)) + 32\n",
    "- you must write a function \"celcius_to_fahrenheit(....) which takes one number as a parameter which is a celcius temperature, converts this into fahrenheit and returns the converted value. \n",
    "- Coldest temperature ever recorded in Canada is -63 degrees C in Yukon\n",
    "- Hottest temperature ever recorded in Canada is 45 degrees C Saskatchewan"
   ]
  },
  {
   "cell_type": "markdown",
   "metadata": {},
   "source": [
    "### Output\n",
    "Hottest temperature in Canada 45 <br>\n",
    "Coldest temperature in Canada -63<br>\n",
    "-63.00 celcius is -81.40 fahrenheit<br>\n",
    "-62.00 celcius is -79.60 fahrenheit<br>\n",
    "...<br>\n",
    "...<br>\n",
    "...<br>\n",
    "44.00 celcius is 111.20 fahrenheit<br>\n",
    "45.00 celcius is 113.00 fahrenheit"
   ]
  }
 ],
 "metadata": {
  "kernelspec": {
   "display_name": "Python 3",
   "language": "python",
   "name": "python3"
  },
  "language_info": {
   "codemirror_mode": {
    "name": "ipython",
    "version": 3
   },
   "file_extension": ".py",
   "mimetype": "text/x-python",
   "name": "python",
   "nbconvert_exporter": "python",
   "pygments_lexer": "ipython3",
   "version": "3.7.0"
  }
 },
 "nbformat": 4,
 "nbformat_minor": 2
}
