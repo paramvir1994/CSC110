{
 "cells": [
  {
   "cell_type": "markdown",
   "metadata": {},
   "source": [
    "# Exercise 1:\n",
    "\n",
    "Boolean Reasoning\n",
    "\n",
    "- As per Live Demo in the class."
   ]
  },
  {
   "cell_type": "markdown",
   "metadata": {},
   "source": [
    "# Exercise 2:\n",
    "\n",
    "- Start by taking a name from the user. \n",
    "- Is the name \"David\" or \"Molly\"?\n",
    "- Print the name that is entered and the appropriate message.\n",
    "    - Hello Molly!! We have been looking for you\n",
    "    - Hello David!! We have been looking for you\n",
    "    - Sorry \"Entered Name\" but we are looking for Molly or David"
   ]
  },
  {
   "cell_type": "markdown",
   "metadata": {},
   "source": [
    "# Exercise 3:\n",
    "\n",
    "**Write a program to calculate simple interest on a principal amount for a term duration.** \n",
    "\n",
    "- Interest rate varies by term duration.\n",
    "    - 1-2 years -- 2% \n",
    "    - 3-5 years -- 3%\n",
    "    - 6-10 years -- 5%\n",
    "    - more than 10 years -- 7%   \n",
    "\n",
    "**Formula for simple interest is (Term x (Principal x interest rate in decimals))**\n",
    "\n",
    "\n",
    "### Example \n",
    "\n",
    "for Principal = $100, term = 5 years,\n",
    "\n",
    "Interest = 5 x (100 x 0.03) = 15\n",
    "\n",
    "Final Principal = 100 + 15 = 115"
   ]
  },
  {
   "cell_type": "markdown",
   "metadata": {},
   "source": [
    "# Exercise 4 (Nested decision statements): Reduction of a number\n",
    "\n",
    "\n",
    "Take a number from the user and reduce it in a series of steps.\n",
    "- **Reduction 1:**\n",
    "If number is greater than 1M ---->\n",
    "    if number is less than 2M, divide it by 10, otherwise, divide it by 20\n",
    "otherwise ---->\n",
    "    if number is greater than 500k, divide it by 10, otherwise, divide it by 5\n",
    "    \n",
    "- **Reduction 2:**\n",
    "If number is greater than 10k ---->\n",
    "    if number is less than 100k, divide it by 2, otherwise, divide it by 5\n",
    "otherwise ---->\n",
    "    if number is greater than 1k, divide it by 5, otherwise, substract 100 from the number\n",
    "\n",
    "#### Print the number after each reduction.\n"
   ]
  }
 ],
 "metadata": {
  "kernelspec": {
   "display_name": "Python 3",
   "language": "python",
   "name": "python3"
  },
  "language_info": {
   "codemirror_mode": {
    "name": "ipython",
    "version": 3
   },
   "file_extension": ".py",
   "mimetype": "text/x-python",
   "name": "python",
   "nbconvert_exporter": "python",
   "pygments_lexer": "ipython3",
   "version": "3.7.0"
  }
 },
 "nbformat": 4,
 "nbformat_minor": 2
}
