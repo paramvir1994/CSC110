{
 "cells": [
  {
   "cell_type": "markdown",
   "metadata": {},
   "source": [
    "# <hi><center>UNIVERSITY OF VICTORIA</xcenter></h1>\n",
    "# <hi><center>Department of Computer Science</xcenter></h1>\n",
    "## <hi><center>CSC 110 Fundamentals of Programming I (January 2020 to April 2020) </xcenter></h1>\n",
    "### <hi><center>Course Instructor : Professor Mike Zastre</xcenter></h1>\n",
    "### <hi><center>LAB 04 -- Monday, 3rd February 2020 to Thursday, 6th February 2020</xcenter></h1>"
   ]
  },
  {
   "cell_type": "markdown",
   "metadata": {},
   "source": [
    "### This lab will cover the following topics\n",
    "\n",
    "- for loops\n",
    "- nested loops\n"
   ]
  },
  {
   "cell_type": "markdown",
   "metadata": {},
   "source": [
    "### What are the answers for the following?"
   ]
  },
  {
   "cell_type": "code",
   "execution_count": null,
   "metadata": {},
   "outputs": [],
   "source": [
    "for i in range(1, 20):\n",
    "    print(i, \" \", end=\"\")\n",
    "print()"
   ]
  },
  {
   "cell_type": "code",
   "execution_count": null,
   "metadata": {},
   "outputs": [],
   "source": [
    "for i in range(1, 20, 2):\n",
    "    print(i, \" \", end=\"\")\n",
    "print()"
   ]
  },
  {
   "cell_type": "markdown",
   "metadata": {},
   "source": [
    " \n",
    "### Exercise 1(a): What is the sequence produced by range(5, 200, 14)\n",
    "\n",
    "### Exercise 1(b): What is the sequence produced by range(-10, -40, -5)\n",
    "\n",
    "### Exercise 1(c): What is the sequence produced by range(5, 20, -1)\n"
   ]
  },
  {
   "cell_type": "code",
   "execution_count": null,
   "metadata": {},
   "outputs": [],
   "source": [
    "# Exercise 1(a)\n",
    "\n",
    "for i in range(5, 200, 14):\n",
    "    print(i, \" \", end=\"\")\n",
    "print()"
   ]
  },
  {
   "cell_type": "code",
   "execution_count": null,
   "metadata": {},
   "outputs": [],
   "source": [
    "# Exercise 1(b): What is the sequence produced by range(-10, -40, -5)\n",
    "\n",
    "for i in range(-10, -40, -5):\n",
    "    print(i, \" \", end=\"\")\n",
    "print()"
   ]
  },
  {
   "cell_type": "code",
   "execution_count": null,
   "metadata": {},
   "outputs": [],
   "source": [
    "# Exercise 1(c): What is the sequence produced by range(5, 20, -1)\n",
    "\n",
    "for i in range(5, 20, -1):\n",
    "    print(i, \" \", end=\"\")\n",
    "print()"
   ]
  },
  {
   "cell_type": "markdown",
   "metadata": {},
   "source": [
    "### Exercise 2: Use the range function to reproduce the following sequence of numbers\n",
    "\n",
    "### 2(a): 4 26 48 70 92 114 136 158 180 202 224 246 268\n",
    "### 2(b): 280 260 240 220 200 180 160 140 120 100 80 60 40 20 4\n",
    "### 2(c): 4, 26, 48, 70, 92, 114, 136, 158, 180, 202, 224, 246, 268, 280, 260, 240, 220, 200, 180, 160, 140, 120, 100, 80, 60, 40, 20, 4\n"
   ]
  },
  {
   "cell_type": "markdown",
   "metadata": {},
   "source": [
    "### Exercise 3(a) and 3(b): Code tracing exercise\n",
    "\n",
    "- Trace the code on paper and come up with the final answer. "
   ]
  },
  {
   "cell_type": "code",
   "execution_count": null,
   "metadata": {},
   "outputs": [],
   "source": [
    "# 3(a)\n",
    "\n",
    "num, i, j = 10, 1, 2\n",
    "while (i < 3):\n",
    "    while (j < 8):\n",
    "        num += i * j\n",
    "        j += 3\n",
    "    i += 1\n",
    "    \n",
    "print(num)"
   ]
  },
  {
   "cell_type": "code",
   "execution_count": null,
   "metadata": {},
   "outputs": [],
   "source": [
    "# 3(b)\n",
    "\n",
    "num = -50\n",
    "for i in range(2, 7, 2):\n",
    "    for j in range(-3, 1, 1):\n",
    "        num += i * j\n",
    "        \n",
    "print(num)"
   ]
  },
  {
   "cell_type": "markdown",
   "metadata": {},
   "source": [
    "### Exercise 4: Construction of solution using nested loops\n",
    "\n",
    "* One idea: interest tables\n",
    "    * Each table is for a specific period of compounding\n",
    "    * column = interest rate\n",
    "    * rows = starting value of investment\n",
    "    * Produce the needed number of rows and columns (which you can decide)\n",
    "    \n",
    "* Example below:\n",
    "    * Compounding over 10 years\n",
    "    * $P$ is starting (i.e., *present*) value\n",
    "    * $R$ is interest *rate* expressed as a percentage (here annual rate)\n",
    "    * $N$ is number of compounding intervals\n",
    "    * $F$ is the resulting accumulated value (i.e., *future* value)\n",
    "    * Compounding is every year, i.e., $F = P \\times (1 + R/100)^N$\n",
    "\n",
    "## Output:"
   ]
  },
  {
   "cell_type": "raw",
   "metadata": {},
   "source": [
    "Future value after 10 years of interest\n",
    "\n",
    "START    1%    2%    3%    4%    5%    6%    7%    8%    9%\n",
    "  1000  1104  1218  1343  1480  1628  1790  1967  2158  2367\n",
    "  2000  2209  2437  2687  2960  3257  3581  3934  4317  4734\n",
    "  3000  3313  3656  4031  4440  4886  5372  5901  6476  7102\n",
    "  4000  4418  4875  5375  5920  6515  7163  7868  8635  9469\n",
    "  5000  5523  6094  6719  7401  8144  8954  9835 10794 11836\n",
    "  6000  6627  7313  8063  8881  9773 10745 11802 12953 14204\n",
    "  7000  7732  8532  9407 10361 11402 12535 13770 15112 16571\n",
    "  8000  8836  9751 10751 11841 13031 14326 15737 17271 18938\n",
    "  9000  9941 10970 12095 13322 14660 16117 17704 19430 21306"
   ]
  },
  {
   "cell_type": "markdown",
   "metadata": {},
   "source": [
    "### Exercise 5: Determine all prime numbers upto a certain number (This number can be hardcoded)\n",
    "\n",
    "<b>Prime Numbers Definition:</b> A whole number greater than 1 that can not be made by multiplying other whole numbers.\n",
    "\n",
    "### 5(a): Use for loops only\n",
    "### 5(b): Use while loops\n",
    "\n"
   ]
  }
 ],
 "metadata": {
  "kernelspec": {
   "display_name": "Python 3",
   "language": "python",
   "name": "python3"
  },
  "language_info": {
   "codemirror_mode": {
    "name": "ipython",
    "version": 3
   },
   "file_extension": ".py",
   "mimetype": "text/x-python",
   "name": "python",
   "nbconvert_exporter": "python",
   "pygments_lexer": "ipython3",
   "version": "3.7.0"
  }
 },
 "nbformat": 4,
 "nbformat_minor": 2
}
