{
 "cells": [
  {
   "cell_type": "markdown",
   "metadata": {},
   "source": [
    "# <hi><center>UNIVERSITY OF VICTORIA</xcenter></h1>\n",
    "# <hi><center>Department of Computer Science</xcenter></h1>\n",
    "## <hi><center>CSC 110 Fundamentals of Programming I</xcenter></h1>\n",
    "### <hi><center>LAB 03</xcenter></h1>\n",
    "\n",
    "### This lab will cover the following topics\n",
    "\n",
    "- nested decision making\n",
    "- introduction to while loops (will not be using for loops)"
   ]
  },
  {
   "cell_type": "markdown",
   "metadata": {},
   "source": [
    "## Exercise 1: Introduction to loops\n",
    "\n",
    "- Basic syntax of while loops\n",
    "- Print numbers from 1 to 10 using a while loop."
   ]
  },
  {
   "cell_type": "code",
   "execution_count": 2,
   "metadata": {},
   "outputs": [
    {
     "name": "stdout",
     "output_type": "stream",
     "text": [
      "1 2 3 4 5 6 7 8 9 10 "
     ]
    }
   ],
   "source": [
    "num = 1\n",
    "while num < 11:\n",
    "    print(num, end = \" \")\n",
    "    num = num + 1"
   ]
  },
  {
   "cell_type": "markdown",
   "metadata": {},
   "source": [
    "### Exercise 1(a):\n",
    "\n",
    "- print all even numbers between 1 and 10 using a while loop"
   ]
  },
  {
   "cell_type": "markdown",
   "metadata": {},
   "source": [
    "### Exercise 1(b):\n",
    "\n",
    "- Take 2 numbers from the user\n",
    "- Print all even numbers between those 2 numbers"
   ]
  },
  {
   "cell_type": "markdown",
   "metadata": {},
   "source": [
    "## Exercise 2: infinite loop\n",
    "\n",
    "Here is an example of an infinite loop. When we run it, we notice from the output that the code has entered an infinite loop. Notice that after doing that, none of the other cells will run or produce any output, even though we have already tested them and know that the code is correct. This is because of the infinite loop in this cell's code. You will also notice a star * in the top left of the cell, which indicates that it is in an infinite loop. In order to stop the infinite loop go up to the notebook menu and select kernel > interrupt. You also need to restart the kernel. kernel > restart or kernel > restart and clear output"
   ]
  },
  {
   "cell_type": "raw",
   "metadata": {},
   "source": [
    "# x = 1\n",
    "while x <= 10:\n",
    "    if x % 2 == 1:\n",
    "        print(x, end = \" \")"
   ]
  },
  {
   "cell_type": "markdown",
   "metadata": {},
   "source": [
    "## Exercise 3: Conversion chart for inches to centimeters. \n",
    "\n",
    "1 in = 2.54 cm\n",
    "\n",
    "### Output:\n",
    "<br>\n",
    "1 inch is  2.54 centimeters<br>\n",
    "2 inch is  5.08 centimeters<br>\n",
    "3 inch is  7.62 centimeters<br>\n",
    "4 inch is  10.16 centimeters<br>\n",
    "5 inch is  12.7 centimeters<br>\n",
    "6 inch is  15.24 centimeters<br>\n",
    "7 inch is  17.78 centimeters<br>\n",
    "8 inch is  20.32 centimeters<br>\n",
    "9 inch is  22.86 centimeters<br>\n",
    "10 inch is  25.4 centimeters<br>\n",
    "11 inch is  27.94 centimeters<br>\n",
    "12 inch is  30.48 centimeters"
   ]
  },
  {
   "cell_type": "markdown",
   "metadata": {},
   "source": [
    "## Exercise 4: Calculation of player contract grades\n",
    "\n",
    "Consider a professional hockey team. The salary of a player is determined by what grade of contract they have. Grades of contract available are \"A\", \"B\", \"C\" and \"D\". The grade of contract a player will be awarded in 2020 is determined by how many goals they scored in 2019, based on the following:\n",
    "\n",
    "- more than 20 goals scored: grade A\n",
    "- 10 to 20 goals scored: grade B\n",
    "- less than 10 goals scored: grade C\n",
    "- no goals scored: grade D\n",
    "\n",
    "write a program that asks the user for the name of the player and the number of goals this player scored. Then print out what grade of contract this player will have. The program should then ask the user if they want to enter another player. If the user enters \"yes\", then repeat the above steps. Continue repeating this process until the user enters \"no\" when asked if they want to enter another player. \n",
    "\n",
    "At the end, print a count of how many players were entered. \n",
    "\n",
    "HINT: Refer to page 164 of the textbook. \n",
    "\n",
    "### Output:\n",
    "What is the name of the player?fvfgd\n",
    "\n",
    "How many goals did they score?58\n",
    "\n",
    "Player  fvfgd has a grade  A contract\n",
    "\n",
    "Do you want to enter another player? enter \"yes\" or \"no\"no"
   ]
  },
  {
   "cell_type": "markdown",
   "metadata": {},
   "source": [
    "## Exercise 5: Reduction of a number \n",
    "\n",
    "- Take a number from the user and reduce it to zero using the below conditions. Print the starting number and the number after each reduction\n",
    "\n",
    "- less than 1000, substract 200\n",
    "- between 1000 and 100,000, divide by 2\n",
    "- between 100,000 and 500,00, divide by 5\n",
    "- between 500,000 and 1 million, divide by 10\n",
    "- between 1 million and 2 million, divide 15\n",
    "- more 2 million, divide by 20\n",
    "- less than 0, equals to 0\n",
    "\n",
    "How many reductions does it take?\n",
    "\n",
    "### Output:\n",
    "Enter a number 10000<br>\n",
    "10000<br>\n",
    "5000.0<br>\n",
    "2500.0<br>\n",
    "1250.0<br>\n",
    "625.0<br>\n",
    "425.0<br>\n",
    "225.0<br>\n",
    "25.0<br>\n",
    "-175.0<br>\n",
    "0<br>\n",
    "Number of reductions needed is  8"
   ]
  }
 ],
 "metadata": {
  "kernelspec": {
   "display_name": "Python 3",
   "language": "python",
   "name": "python3"
  },
  "language_info": {
   "codemirror_mode": {
    "name": "ipython",
    "version": 3
   },
   "file_extension": ".py",
   "mimetype": "text/x-python",
   "name": "python",
   "nbconvert_exporter": "python",
   "pygments_lexer": "ipython3",
   "version": "3.7.0"
  }
 },
 "nbformat": 4,
 "nbformat_minor": 2
}
