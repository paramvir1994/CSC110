{
 "cells": [
  {
   "cell_type": "markdown",
   "metadata": {},
   "source": [
    "# <hi><center>UNIVERSITY OF VICTORIA</xcenter></h1>\n",
    "# <hi><center>Department of Computer Science</xcenter></h1>\n",
    "## <hi><center>CSC 110 Fundamentals of Programming I (January 2020 to April 2020) </xcenter></h1>\n",
    "### <hi><center>LAB 06 -- Monday, 24th February 2020 to Thursday, 27th February 2020</xcenter></h1>"
   ]
  },
  {
   "cell_type": "markdown",
   "metadata": {},
   "source": [
    "### This lab will cover the following topics\n",
    "\n",
    "* lists\n"
   ]
  },
  {
   "cell_type": "code",
   "execution_count": 8,
   "metadata": {},
   "outputs": [
    {
     "name": "stdout",
     "output_type": "stream",
     "text": [
      "[110, 95.2, 1000, 45.2]\n",
      "['Marcus', 'Tianming', 'Paramvir', 'Janet']\n",
      "[16, 'Richard Timothy', 'Smith', 185.2]\n"
     ]
    }
   ],
   "source": [
    "# Creating lists\n",
    "\n",
    "dists = [110, 95.2, 1000, 45.2]\n",
    "names = [\"Marcus\", \"Tianming\", \"Paramvir\", \"Janet\"]\n",
    "mixed = [16, \"Richard Timothy\", \"Smith\", 185.2]  # age, first & given, last, height in cm\n",
    "\n",
    "print(dists)\n",
    "print(names)\n",
    "print(mixed)\n",
    "\n",
    "# Note that lists can have different types of data"
   ]
  },
  {
   "cell_type": "code",
   "execution_count": 9,
   "metadata": {},
   "outputs": [
    {
     "name": "stdout",
     "output_type": "stream",
     "text": [
      "Paramvir\n",
      "Andrew\n"
     ]
    }
   ],
   "source": [
    "# Indexing of lists, accessing and modifying elemnts of a lists\n",
    "\n",
    "print(names[2])\n",
    "names[2] = 'Andrew'\n",
    "print(names[2])"
   ]
  },
  {
   "cell_type": "code",
   "execution_count": 10,
   "metadata": {},
   "outputs": [
    {
     "ename": "NameError",
     "evalue": "name 'other_names' is not defined",
     "output_type": "error",
     "traceback": [
      "\u001b[1;31m---------------------------------------------------------------------------\u001b[0m",
      "\u001b[1;31mNameError\u001b[0m                                 Traceback (most recent call last)",
      "\u001b[1;32m<ipython-input-10-211d872d440d>\u001b[0m in \u001b[0;36m<module>\u001b[1;34m()\u001b[0m\n\u001b[0;32m      1\u001b[0m \u001b[1;31m# List must exist before we can access it\u001b[0m\u001b[1;33m\u001b[0m\u001b[1;33m\u001b[0m\u001b[0m\n\u001b[1;32m----> 2\u001b[1;33m \u001b[0mother_names\u001b[0m\u001b[1;33m[\u001b[0m\u001b[1;36m0\u001b[0m\u001b[1;33m]\u001b[0m \u001b[1;33m=\u001b[0m \u001b[1;34m\"Harry\"\u001b[0m\u001b[1;33m\u001b[0m\u001b[0m\n\u001b[0m",
      "\u001b[1;31mNameError\u001b[0m: name 'other_names' is not defined"
     ]
    }
   ],
   "source": [
    "# List must exist before we can access it\n",
    "other_names[0] = \"Harry\""
   ]
  },
  {
   "cell_type": "code",
   "execution_count": 4,
   "metadata": {},
   "outputs": [
    {
     "name": "stdout",
     "output_type": "stream",
     "text": [
      "['Marcus', 'Tianming', 'Ranjadh', 'Janet', 'Jared', 'Siobhan']\n",
      "[110, 95.2, 1000, 45.2, 212.3, 'absolute zero']\n"
     ]
    },
    {
     "ename": "NameError",
     "evalue": "name 'dist' is not defined",
     "output_type": "error",
     "traceback": [
      "\u001b[0;31m---------------------------------------------------------------------------\u001b[0m",
      "\u001b[0;31mNameError\u001b[0m                                 Traceback (most recent call last)",
      "\u001b[0;32m<ipython-input-4-11c1ad321230>\u001b[0m in \u001b[0;36m<module>\u001b[0;34m\u001b[0m\n\u001b[1;32m      9\u001b[0m \u001b[0mprint\u001b[0m\u001b[0;34m(\u001b[0m\u001b[0mdists\u001b[0m\u001b[0;34m)\u001b[0m  \u001b[0;31m# Notice lists may contain values of different types\u001b[0m\u001b[0;34m\u001b[0m\u001b[0;34m\u001b[0m\u001b[0m\n\u001b[1;32m     10\u001b[0m \u001b[0;34m\u001b[0m\u001b[0m\n\u001b[0;32m---> 11\u001b[0;31m \u001b[0mdist\u001b[0m\u001b[0;34m.\u001b[0m\u001b[0mappend\u001b[0m\u001b[0;34m(\u001b[0m\u001b[0;36m1977\u001b[0m\u001b[0;34m)\u001b[0m  \u001b[0;31m# Spelling mistake on purpose -- meant `dists`, wrote `dist`\u001b[0m\u001b[0;34m\u001b[0m\u001b[0;34m\u001b[0m\u001b[0m\n\u001b[0m",
      "\u001b[0;31mNameError\u001b[0m: name 'dist' is not defined"
     ]
    }
   ],
   "source": [
    "# Add elements to a list (via append); again with some error handling\n",
    "\n",
    "names.append(\"Jared\")\n",
    "names.append(\"Siobhan\")\n",
    "print(names)\n",
    "\n",
    "dists.append(212.3)\n",
    "dists.append(\"absolute zero\")\n",
    "print(dists)  # Notice lists may contain values of different types\n",
    "\n",
    "dist.append(1977)  # Spelling mistake on purpose -- meant `dists`, wrote `dist`"
   ]
  },
  {
   "cell_type": "code",
   "execution_count": 5,
   "metadata": {},
   "outputs": [
    {
     "name": "stdout",
     "output_type": "stream",
     "text": [
      "['Prince George']\n",
      "['Vancouver', 'Prince George']\n",
      "['Vancouver', 'Burnaby', 'Prince George']\n",
      "['Vancouver', 'Burnaby', 'Smithers', 'Prince George']\n",
      "['Vancouver', 'Burnaby', 'Kelowna', 'Smithers', 'Prince George']\n"
     ]
    }
   ],
   "source": [
    "# Using insert to add elements at specific points\n",
    "\n",
    "cities = []\n",
    "\n",
    "cities.insert(0, \"Prince George\")\n",
    "print(cities)\n",
    "\n",
    "cities.insert(0, \"Vancouver\")\n",
    "print(cities)\n",
    "\n",
    "cities.insert(1, \"Burnaby\")\n",
    "print(cities)\n",
    "\n",
    "cities.insert(-1, \"Smithers\") # Notice -1 as the position of insert\n",
    "print(cities)\n",
    "\n",
    "cities.insert(int(len(cities)/2), \"Kelowna\")\n",
    "print(cities)"
   ]
  },
  {
   "cell_type": "code",
   "execution_count": 7,
   "metadata": {},
   "outputs": [
    {
     "name": "stdout",
     "output_type": "stream",
     "text": [
      "['H', 'He', 'Li', 'Be', 'B', 'C', 'N', 'O', 'F', 'Ne', 'Na', 'Mg', 'Al', 'Si', 'P', 'S', 'Cl', 'Ar']\n",
      "['He', 'Li', 'Be', 'B', 'C', 'N', 'O', 'F', 'Ne', 'Na', 'Mg', 'Al', 'Si', 'P', 'S', 'Cl']\n"
     ]
    }
   ],
   "source": [
    "# Remove elements from a list\n",
    "# Here we alternate between removing from \"head\" of list and \"tail\" of list\n",
    "# Introducing here the `split()` function on a string as a way of constructing a list\n",
    "\n",
    "elem_string = \"H He Li Be B C N O F Ne Na Mg Al Si P S Cl Ar\"\n",
    "elems = elem_string.split()\n",
    "print(elems)\n",
    "del elems[0]\n",
    "del elems[-1]\n",
    "print(elems)"
   ]
  },
  {
   "cell_type": "code",
   "execution_count": 8,
   "metadata": {},
   "outputs": [
    {
     "name": "stdout",
     "output_type": "stream",
     "text": [
      "['H', 'He']\n",
      "['Li', 'Be', 'B', 'C', 'N', 'O', 'F', 'Ne']\n",
      "['Na', 'Mg', 'Al', 'Si', 'P', 'S', 'Cl', 'Ar']\n"
     ]
    }
   ],
   "source": [
    "# Slicing\n",
    "\n",
    "elem_string = \"H He Li Be B C N O F Ne Na Mg Al Si P S Cl Ar\"\n",
    "elems = elem_string.split()\n",
    "top_row = elems[:2]\n",
    "next_row = elems[2:10]\n",
    "last_row = elems[10:]\n",
    "print (top_row)\n",
    "print(next_row)\n",
    "print(last_row)"
   ]
  },
  {
   "cell_type": "code",
   "execution_count": 9,
   "metadata": {},
   "outputs": [
    {
     "name": "stdout",
     "output_type": "stream",
     "text": [
      "['Li', 'C', 'F']\n",
      "['H', 'He', 'Li', 'Be', 'B', 'C', 'N', 'O', 'F', 'Ne', 'Na', 'Mg', 'Al', 'Si', 'P', 'S', 'Cl', 'Ar']\n",
      "['Ar', 'Cl', 'S', 'P', 'Si', 'Al', 'Mg', 'Na', 'Ne', 'F', 'O', 'N', 'C', 'B', 'Be', 'Li', 'He', 'H']\n"
     ]
    }
   ],
   "source": [
    "# Skipping\n",
    "\n",
    "skipping = elems[2:10:3]\n",
    "really_skipping = elems[::1]\n",
    "kind_of_reverse = elems[::-1]\n",
    "print(skipping)\n",
    "print(really_skipping)\n",
    "print(kind_of_reverse)"
   ]
  },
  {
   "cell_type": "code",
   "execution_count": 10,
   "metadata": {},
   "outputs": [
    {
     "name": "stdout",
     "output_type": "stream",
     "text": [
      "Li\n",
      "Li\n",
      "\n",
      "Li\n",
      "Lithium\n"
     ]
    }
   ],
   "source": [
    "# is top_row just referencing a part of elems? or is it a new list?\n",
    "\n",
    "print(elems[2])\n",
    "print(next_row[0])\n",
    "\n",
    "print()\n",
    "\n",
    "next_row[0] = \"Lithium\"\n",
    "print(elems[2])\n",
    "print(next_row[0])"
   ]
  },
  {
   "cell_type": "code",
   "execution_count": 11,
   "metadata": {},
   "outputs": [
    {
     "name": "stdout",
     "output_type": "stream",
     "text": [
      "letters: ['alpha', 'beta', 'gamma', 'delta']\n",
      "let1: ['alpha', 'beta', 'gamma', 'delta']\n",
      "let2: ['alpha', 'beta', 'gamma', 'delta']\n",
      "\n",
      "letters: ['ALPHA', 'beta', 'gamma', 'delta']\n",
      "let1: ['ALPHA', 'beta', 'gamma', 'delta']\n",
      "let2: ['alpha', 'BETA', 'gamma', 'delta']\n"
     ]
    }
   ],
   "source": [
    "# Reference vs copy\n",
    "# Beware: list assignment can be tricky, especially if one wants a copy\n",
    "\n",
    "letters = [\"alpha\", \"beta\", \"gamma\", \"delta\"]\n",
    "let1 = letters\n",
    "let2 = letters[:]\n",
    "\n",
    "print(\"letters:\",letters)\n",
    "print(\"let1:\", let1)\n",
    "print(\"let2:\", let2)\n",
    "print()\n",
    "\n",
    "let1[0] = 'ALPHA'\n",
    "let2[1] = 'BETA'\n",
    "print(\"letters:\",letters)  # BUT WE DIDN\"T REFER TO THIS ON LINES 10 AND 11\n",
    "print(\"let1:\", let1)\n",
    "print(\"let2:\", let2)"
   ]
  },
  {
   "cell_type": "markdown",
   "metadata": {},
   "source": [
    "* Iterate over all items in the list\n",
    "    * First form assumes list does *not* change\n",
    "    * Second form works with successively shorter and shorter lists"
   ]
  },
  {
   "cell_type": "code",
   "execution_count": 12,
   "metadata": {
    "scrolled": true
   },
   "outputs": [
    {
     "name": "stdout",
     "output_type": "stream",
     "text": [
      "planets1: ['Mercury', 'Venus', 'Earth', 'Mars', 'Jupiter', 'Saturn']\n",
      "Planet --> Mercury\n",
      "Planet --> Venus\n",
      "Planet --> Earth\n",
      "Planet --> Mars\n",
      "Planet --> Jupiter\n",
      "Planet --> Saturn\n",
      "planets1: ['Mercury', 'Venus', 'Earth', 'Mars', 'Jupiter', 'Saturn']\n",
      "\n",
      "planets2: ['Saturn', 'Jupiter', 'Mars', 'Earth', 'Venus', 'Mercury']\n",
      "Saturn\n",
      "planets2: ['Jupiter', 'Mars', 'Earth', 'Venus', 'Mercury']\n",
      "Jupiter\n",
      "planets2: ['Mars', 'Earth', 'Venus', 'Mercury']\n",
      "Mars\n",
      "planets2: ['Earth', 'Venus', 'Mercury']\n",
      "Earth\n",
      "planets2: ['Venus', 'Mercury']\n",
      "Venus\n",
      "planets2: ['Mercury']\n",
      "Mercury\n",
      "planets2: []\n"
     ]
    }
   ],
   "source": [
    "# Planets known by the ancient Greeks\n",
    "\n",
    "planets1 = [\"Mercury\", \"Venus\", \"Earth\", \"Mars\", \"Jupiter\", \"Saturn\"]\n",
    "planets2 = planets1[::-1]  # Make a full copy, but in reverse ordr\n",
    "\n",
    "print(\"planets1:\", planets1)\n",
    "for p in planets1:\n",
    "    print(\"Planet -->\", p)\n",
    "print(\"planets1:\", planets1)\n",
    "\n",
    "print()\n",
    "\n",
    "# Second loop progressively _removes_ an element from the front (head)\n",
    "# of the list\n",
    "\n",
    "print(\"planets2:\", planets2)\n",
    "while planets2:\n",
    "#     p = planets2.pop(0)     # Assumes list is non-empty\n",
    "#     print (\"Planet -->\", p)\n",
    "    print(planets2[0])\n",
    "    del planets2[0]\n",
    "    print(\"planets2:\", planets2)\n"
   ]
  },
  {
   "cell_type": "markdown",
   "metadata": {},
   "source": [
    "# Exercise 1: Average all of the positive elements of a list.\n",
    "\n",
    "### Input <br>\n",
    "l = [-3697, -997, -601, -6767, -6129, 8697, 36, 9882, 136, 6763, -3957, -4452, 8644, -8866, -3269, 6493, 6711, 9348, -4925, -3916]<br>\n",
    "### Output<br>\n",
    "Average :6301.111111111111"
   ]
  },
  {
   "cell_type": "markdown",
   "metadata": {},
   "source": [
    "\n",
    "# Exercise 2: Combined length of all words in the list\n",
    "\n",
    "### Input <br>\n",
    "l = ['bauxite', 'cadavers', 'magnificently', 'accost', 'Deidre', 'Salvadorans',\n",
    "         'lefties', 'quests', 'guessable', 'vaccine']<br>\n",
    "### Output<br>\n",
    "Total length :80"
   ]
  }
 ],
 "metadata": {
  "kernelspec": {
   "display_name": "Python 3",
   "language": "python",
   "name": "python3"
  },
  "language_info": {
   "codemirror_mode": {
    "name": "ipython",
    "version": 3
   },
   "file_extension": ".py",
   "mimetype": "text/x-python",
   "name": "python",
   "nbconvert_exporter": "python",
   "pygments_lexer": "ipython3",
   "version": "3.7.0"
  }
 },
 "nbformat": 4,
 "nbformat_minor": 2
}
